{
 "cells": [
  {
   "cell_type": "code",
   "execution_count": null,
   "metadata": {},
   "outputs": [
    {
     "ename": "",
     "evalue": "",
     "output_type": "error",
     "traceback": [
      "\u001b[1;31mThe kernel failed to start as the Python Environment 'env (Python 3.12.3)' is no longer available. Consider selecting another kernel or refreshing the list of Python Environments."
     ]
    }
   ],
   "source": [
    "import os\n",
    "import matplotlib.pyplot as plt"
   ]
  },
  {
   "cell_type": "code",
   "execution_count": null,
   "metadata": {},
   "outputs": [],
   "source": [
    "def ler_dados(nome_arquivo):\n",
    "    with open(nome_arquivo, 'r') as arquivo:\n",
    "        linhas = arquivo.readlines()\n",
    "    \n",
    "    tempo_execucao = None\n",
    "    quantidade_trocas = None\n",
    "    \n",
    "    for linha in linhas:\n",
    "        if \"Tempo de execução\" in linha:\n",
    "            tempo_execucao = float(linha.split(\":\")[1].strip().split()[0])\n",
    "        elif \"Quantidade de trocas\" in linha:\n",
    "            quantidade_trocas = int(linha.split(\":\")[1].strip())\n",
    "    \n",
    "    return tempo_execucao, quantidade_trocas"
   ]
  },
  {
   "cell_type": "code",
   "execution_count": null,
   "metadata": {},
   "outputs": [],
   "source": [
    "arquivos = [f for f in os.listdir('.') if f.endswith('.txt')]\n",
    "\n",
    "algoritmos = []\n",
    "tempos = []\n",
    "trocas = []\n",
    "\n",
    "for arquivo in arquivos:\n",
    "    nome_algoritmo = os.path.splitext(arquivo)[0] \n",
    "    tempo, troca = ler_dados(arquivo)\n",
    "    \n",
    "    if tempo is not None and troca is not None:\n",
    "        algoritmos.append(nome_algoritmo)\n",
    "        tempos.append(tempo)\n",
    "        trocas.append(troca)"
   ]
  },
  {
   "cell_type": "code",
   "execution_count": null,
   "metadata": {},
   "outputs": [],
   "source": [
    "plt.figure(figsize=(10, 6))\n",
    "bars1 = plt.bar(algoritmos, tempos, color='skyblue')\n",
    "plt.xlabel('Algoritmos')\n",
    "plt.ylabel('Tempo de Execução (segundos)')\n",
    "plt.title('Tempo de Execução por Algoritmo')\n",
    "plt.xticks(rotation=45)\n",
    "plt.tight_layout()\n",
    "\n",
    "for bar in bars1:\n",
    "    yval = bar.get_height()\n",
    "    plt.text(bar.get_x() + bar.get_width()/2, yval, f'{yval:.6f}', ha='center', va='bottom', fontsize=9)\n",
    "\n",
    "plt.show()"
   ]
  },
  {
   "cell_type": "code",
   "execution_count": null,
   "metadata": {},
   "outputs": [],
   "source": [
    "plt.figure(figsize=(10, 6))\n",
    "bars2 = plt.bar(algoritmos, trocas, color='salmon')\n",
    "plt.xlabel('Algoritmos')\n",
    "plt.ylabel('Quantidade de Trocas')\n",
    "plt.title('Quantidade de Trocas por Algoritmo')\n",
    "plt.xticks(rotation=45)\n",
    "plt.tight_layout()\n",
    "\n",
    "for bar in bars2:\n",
    "    yval = bar.get_height()\n",
    "    plt.text(bar.get_x() + bar.get_width()/2, yval, f'{yval}', ha='center', va='bottom', fontsize=9)\n",
    "\n",
    "plt.show()"
   ]
  }
 ],
 "metadata": {
  "kernelspec": {
   "display_name": "Python 3",
   "language": "python",
   "name": "python3"
  },
  "language_info": {
   "codemirror_mode": {
    "name": "ipython",
    "version": 3
   },
   "file_extension": ".py",
   "mimetype": "text/x-python",
   "name": "python",
   "nbconvert_exporter": "python",
   "pygments_lexer": "ipython3",
   "version": "3.12.3"
  }
 },
 "nbformat": 4,
 "nbformat_minor": 2
}
